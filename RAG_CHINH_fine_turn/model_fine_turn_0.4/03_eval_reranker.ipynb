{
 "cells": [
  {
   "cell_type": "markdown",
   "id": "1c808b30",
   "metadata": {},
   "source": [
    "# 03 – Evaluate Reranker (MRR@10, Recall@10)"
   ]
  },
  {
   "cell_type": "code",
   "execution_count": null,
   "id": "5c231a1c",
   "metadata": {},
   "outputs": [],
   "source": [
    "import json, random, numpy as np\n",
    "from sentence_transformers import CrossEncoder\n",
    "model = CrossEncoder('/mnt/data/reranker_food')\n",
    "rows = [json.loads(l) for l in open('/mnt/data/pairs.jsonl', encoding='utf-8')]\n",
    "evalq = [json.loads(l) for l in open('/mnt/data/eval_queries.jsonl', encoding='utf-8')]\n",
    "neg_pool = []\n",
    "for r in rows:\n",
    "    neg_pool += r['negatives']\n",
    "random.shuffle(neg_pool)\n",
    "\n",
    "def metrics(ranks, k=10):\n",
    "    mrr = np.mean([1.0/(r+1) for r in ranks])\n",
    "    recall = np.mean([1.0 if r < k else 0.0 for r in ranks])\n",
    "    import math\n",
    "    ndcgs = []\n",
    "    for r in ranks:\n",
    "        if r < k: ndcgs.append(1.0/np.log2(r+2))\n",
    "        else: ndcgs.append(0.0)\n",
    "    return mrr, float(np.mean(ndcgs)), recall\n",
    "\n",
    "ranks = []\n",
    "for i, q in enumerate(evalq):\n",
    "    pos = rows[i % len(rows)]['positive']\n",
    "    candidates = [pos] + neg_pool[i*20:(i+1)*20]\n",
    "    pairs = [(q['query'], c) for c in candidates]\n",
    "    scores = model.predict(pairs)\n",
    "    order = np.argsort(-scores)\n",
    "    rank_pos = list(order).index(0)\n",
    "    ranks.append(rank_pos)\n",
    "mrr, ndcg, r10 = metrics(ranks, k=10)\n",
    "print(f'MRR@10={mrr:.3f} nDCG@10={ndcg:.3f} Recall@10={r10:.3f}')"
   ]
  }
 ],
 "metadata": {},
 "nbformat": 4,
 "nbformat_minor": 5
}
